{
 "cells": [
  {
   "cell_type": "markdown",
   "metadata": {},
   "source": [
    "# wongds_prescriber_rx\n",
    "A Python-based approach for a Tufts Biomedical Data Science Club project to determine whether patterns exist between prescriber demographic information and opioid prescription.\n",
    "\n",
    "## Datasets\n",
    "### Prescriber attributes\n",
    "https://www.kaggle.com/roamresearch/prescriptionbasedprediction\n",
    "A single JSONL file, each line of which is a single healthcare provider. Each line contains data in the following format:\n",
    "```json\n",
    "{\n",
    "    'provider_variables': \n",
    "        {\n",
    "            'brand_name_rx_count': int,\n",
    "            'gender': 'M' or 'F',\n",
    "            'generic_rx_count': int,\n",
    "            'region': 'South' or 'MidWest' or 'Northeast' or 'West',\n",
    "            'settlement_type': 'non-urban' or 'urban'\n",
    "            'specialty': str\n",
    "            'years_practicing': int\n",
    "        },\n",
    "     'npi': str,\n",
    "     'cms_prescription_counts':\n",
    "        {\n",
    "            `drug_name`: int, \n",
    "            `drug_name`: int, \n",
    "            ...\n",
    "        }\n",
    "}\n",
    "```\n",
    "More information is available in this blog post: http://roamanalytics.com/2016/09/13/prescription-based-prediction/\n",
    "\n",
    "### Opiate prescriptions\n",
    "https://www.kaggle.com/apryor6/us-opiate-prescriptions\n",
    "Consists of three files, `opioids.csv`, `overdoses.csv`, and `prescriber-info.csv`.\n",
    "- `opioids.csv` is a two-column list of opioids first their names, and second, their generic names. Generic names also appear in the list of drug names.\n",
    "- `overdoses.csv` is a four-column list of states, the populations of those states, the number of opioid-related deaths in those states in 2014, and the postal abbreviation for those states.\n",
    "- `prescriber-info.csv` is a very wide table of data consisting of many columns: NPI, gender, state, credentials, and specialty of prescribers, followed by counts of individual opioids prescribed by that provider."
   ]
  },
  {
   "cell_type": "markdown",
   "metadata": {},
   "source": [
    "## Packages/Libraries\n",
    "### numpy, scikit-learn, pandas, ggplot\n",
    "Already included as part of `condas` installation; install via `pip` if not already present:\n",
    "```shell\n",
    "sudo python3 -m pip install numpy scikit-learn pandas ggplot\n",
    "```\n",
    "\n",
    "### jsonlines\n",
    "A python library to work with JSONL files. Install via `pip`:\n",
    "```bash\n",
    "sudo python3 -m pip install jsonlines\n",
    "```\n",
    "\n",
    "### baseplot\n",
    "Tool for plotting maps in Python.\n",
    "#### Linux\n",
    "1. Install required packages: \n",
    "```\n",
    "pip install binutils libproj-dev gdal-bin libgeos-dev\n",
    "```\n",
    "2. Download the latest version of `basemap`. Version 1.1.0 should resolve a lot of issues once it is released, but only 1.0.7 is currently available: https://github.com/matplotlib/basemap/releases\n",
    "3. Decompress basemap and edit setup.py between line 86 to remove `'geos'` from the list of libraries:\n",
    "```python\n",
    "else:\n",
    "    extensions.append(Extension(\"_geoslib\",['src/_geoslib.c'],\n",
    "                                library_dirs=geos_library_dirs,\n",
    "                                runtime_library_dirs=geos_library_dirs,\n",
    "                                include_dirs=geos_include_dirs,\n",
    "                                libraries=['geos_c', 'geos']))\n",
    "```\n",
    "to\n",
    "```python\n",
    "else:\n",
    "    extensions.append(Extension(\"_geoslib\",['src/_geoslib.c'],\n",
    "                                library_dirs=geos_library_dirs,\n",
    "                                runtime_library_dirs=geos_library_dirs,\n",
    "                                include_dirs=geos_include_dirs,\n",
    "                                libraries=['geos_c']))\n",
    "```\n",
    "4. Install modified basemap 1.0.7: `sudo python3 setup.py install` or use pip: `sudo pip install .`\n",
    "\n",
    "#### Windows\n",
    "1. Install GEOS package: http://trac.osgeo.org/osgeo4w/ or http://www.lfd.uci.edu/~gohlke/pythonlibs/#shapely for Windows, .\n",
    "2. Install Microsoft Visual Studio Community, modify install to include C++ Build Tools (or just install standalone MS VS C++ Build Tools): https://www.visualstudio.com/downloads/ or http://landinghub.visualstudio.com/visual-cpp-build-tools\n",
    "3. Download the latest version of `basemap`. Version 1.1.0 should resolve a lot of issues once it is released, but only 1.0.7 is currently available: https://github.com/matplotlib/basemap/releases\n",
    "4. Decompress basemap and edit setup.py between line 79 to change `libraries=['geos']` to `libraries=['geos_c']`:\n",
    "```python\n",
    "if sys.platform == 'win32':\n",
    "# don't use runtime_library_dirs on windows (workaround\n",
    "# for a distutils bug - http://bugs.python.org/issue2437).\n",
    "    #extensions.append(Extension(\"mpl_toolkits.basemap._geoslib\",['src/_geoslib.c'],\n",
    "    extensions.append(Extension(\"_geoslib\",['src/_geoslib.c'],\n",
    "                                library_dirs=geos_library_dirs,\n",
    "                                include_dirs=geos_include_dirs,\n",
    "                                libraries=['geos']))\n",
    "```\n",
    "to\n",
    "```python\n",
    "if sys.platform == 'win32':\n",
    "# don't use runtime_library_dirs on windows (workaround\n",
    "# for a distutils bug - http://bugs.python.org/issue2437).\n",
    "    #extensions.append(Extension(\"mpl_toolkits.basemap._geoslib\",['src/_geoslib.c'],\n",
    "    extensions.append(Extension(\"_geoslib\",['src/_geoslib.c'],\n",
    "                                library_dirs=geos_library_dirs,\n",
    "                                include_dirs=geos_include_dirs,\n",
    "                                libraries=['geos_c']))\n",
    "```\n",
    "Set the location for the GEOS library. This is the directory that contains both `geos_c.dll` and `geos_c.h`, typically as `$GEOS_DIR\\bin\\geos_c.dll` and `$GEOS_DIR\\include\\geos_c.h`:\n",
    "```shell\n",
    "set GEOS_DIR=C:\\OSGeo4W64\n",
    "```\n",
    "Then install `basemap` using MSBuild Command Prompt:\n",
    "```shell\n",
    "python setup.py build --compiler=msvc install\n",
    "```\n",
    "Edit system environment variable for Path to include `C:\\OSGeo4W64\\bin`. `Control Panel`>`System and Security`>`System`>`Advanced system settings`>`Advanced`>`Environment Variables`>`Path`>`Edit`\n",
    "\n",
    "Before `basemap` will be available in `conda`, you will need to install it in the `conda` environment. Open an Andaconda Prompt and navigate to the `basemap` source we've been working with. Install it using `pip` inside the Anaconda environment where `setup.py` is located:\n",
    "```shell\n",
    "pip install .\n",
    "```\n",
    "\n",
    "_This site was really helpful: http://blog.straywarrior.com/179.html_"
   ]
  },
  {
   "cell_type": "code",
   "execution_count": 67,
   "metadata": {
    "collapsed": false
   },
   "outputs": [],
   "source": [
    "# Load some useful libraries\n",
    "import csv\n",
    "import jsonlines\n",
    "import copy\n",
    "from pprint import pprint\n",
    "import pandas as pd\n",
    "import numpy as np\n",
    "from ggplot import *\n",
    "import matplotlib\n",
    "import matplotlib.pyplot as plt"
   ]
  },
  {
   "cell_type": "markdown",
   "metadata": {},
   "source": [
    "## Geographic considerations\n",
    "The provider and opiate datasets likely have some geographic distribution that will influence our analysis, so we should do some exploratory analysis of the data to try and figure out what that looks like."
   ]
  },
  {
   "cell_type": "code",
   "execution_count": 1,
   "metadata": {
    "collapsed": false
   },
   "outputs": [],
   "source": [
    "# Load the Matplot library and Basemap toolkit\n",
    "# Use this to visualize the geographic distribution of providers,\n",
    "# opioid-related deaths, and population.\n",
    "# See if our data is biased.\n",
    "from mpl_toolkits.basemap import Basemap"
   ]
  },
  {
   "cell_type": "code",
   "execution_count": 10,
   "metadata": {
    "collapsed": false
   },
   "outputs": [],
   "source": [
    "# Start building our map\n",
    "# Put together a map of the contiguous 48 US states\n",
    "map = Basemap(llcrnrlon=-119,llcrnrlat=22,urcrnrlon=-64,urcrnrlat=49,\n",
    "        projection='lcc',lat_1=33,lat_2=45,lon_0=-95)\n",
    "map.readshapefile('map_files/st99_d00', name='states', drawbounds=True)\n",
    "# Render the map object. Opens a new dialog window.\n",
    "#plt.show()"
   ]
  },
  {
   "cell_type": "markdown",
   "metadata": {},
   "source": [
    "## Loading datasets\n",
    "The opioid dataset has a list of opioids, so that will be useful to use to filter through the provider dataset, which has extra information we might not need right away."
   ]
  },
  {
   "cell_type": "code",
   "execution_count": 2,
   "metadata": {
    "collapsed": false
   },
   "outputs": [],
   "source": [
    "# Start examining data\n",
    "# Load data\n",
    "# Opiate dataset\n",
    "opiate_class_data = 'dataset_rx/opioids.csv'\n",
    "opiate_prescriber_data = 'dataset_rx/prescriber-info.csv'\n",
    "opiate_overdose_data = 'dataset_rx/overdoses.csv'\n",
    "\n",
    "# List of opiates\n",
    "opioids = pd.read_csv(opiate_class_data)\n",
    "\n",
    "# Opiate prescriber info\n",
    "opiate_prescribers = pd.read_csv(opiate_prescriber_data)\n",
    "\n",
    "# Opiate overdoses, by US State\n",
    "opiate_overdoses = pd.read_csv(opiate_overdose_data)"
   ]
  },
  {
   "cell_type": "code",
   "execution_count": 3,
   "metadata": {
    "collapsed": false
   },
   "outputs": [],
   "source": [
    "# Prescriber attribute dataset\n",
    "prescriber_attr_dataset = 'dataset_prescriber/roam_prescription_based_prediction.jsonl'\n",
    "\n",
    "# Build a list of dictionaries containing prescriber data, and dict of provider variables\n",
    "prescriber_attr_data = []\n",
    "prescriber_var_data = {'npi': []}\n",
    "with jsonlines.open(prescriber_attr_dataset) as reader:\n",
    "    for obj in reader:\n",
    "        prescriber_attr_data.append(obj)\n",
    "        prescriber_var_data['npi'].append(obj['npi'])\n",
    "        for key, value in obj['provider_variables'].items():\n",
    "            try:\n",
    "                prescriber_var_data[key].append(value)\n",
    "            except KeyError:\n",
    "                prescriber_var_data[key] = [value]\n",
    "\n",
    "# Make a dataframe just for the provider variables\n",
    "prescriber_info_df = pd.DataFrame(prescriber_var_data)"
   ]
  },
  {
   "cell_type": "markdown",
   "metadata": {},
   "source": [
    "## Filter provider data\n",
    "Look for providers who prescribed opiates. Build this list, then grab their demographic information from the dataframe created from the `provider_variables` section of the JSONL data."
   ]
  },
  {
   "cell_type": "code",
   "execution_count": 4,
   "metadata": {
    "collapsed": false
   },
   "outputs": [],
   "source": [
    "# Look for prescription of opiates in prescriber_data\n",
    "opioid_prescribers = {'Drug Name': [],\n",
    "                      'npi': [],\n",
    "                     }\n",
    "\n",
    "# Cycle through each prescriber record\n",
    "for prescriber in prescriber_attr_data:\n",
    "    # Look for opioids by Drug Name, and make a record of prescriber by npi.\n",
    "    # Generic names also appear in 'Drug Name' list.\n",
    "    for drug in opioids['Drug Name']:\n",
    "        if drug in prescriber['cms_prescription_counts'].keys():\n",
    "            opioid_prescribers['Drug Name'].append(drug)\n",
    "            opioid_prescribers['npi'].append(prescriber['npi'])\n",
    "\n",
    "# Convert the dictionary to a dataframe and save to csv.\n",
    "# Use this dataframe to unify prescriber attributes and opioid prescription.\n",
    "opioid_prescriber_df = pd.DataFrame(opioid_prescribers)\n",
    "opioid_prescriber_df.to_csv('opioid_prescribers.csv')"
   ]
  },
  {
   "cell_type": "code",
   "execution_count": 61,
   "metadata": {
    "collapsed": false
   },
   "outputs": [],
   "source": [
    "# Make a list of opioid prescribes and their info, without the drug data\n",
    "prescriber_npi_df = pd.DataFrame({'npi': list(set(opioid_prescriber_df[\"npi\"]))})\n",
    "pndf = prescriber_npi_df.merge(pd.DataFrame(prescriber_var_data), left_on='npi', right_on='npi')"
   ]
  },
  {
   "cell_type": "code",
   "execution_count": 80,
   "metadata": {
    "collapsed": false
   },
   "outputs": [
    {
     "name": "stdout",
     "output_type": "stream",
     "text": [
      "                                                    freq  \\\n",
      "specialty                                                  \n",
      "Acute Care                                          1048   \n",
      "Addiction (Substance Use Disorder)                     2   \n",
      "Addiction Medicine                                   144   \n",
      "Addiction Psychiatry                                  28   \n",
      "Administrator                                          1   \n",
      "Adolescent Medicine                                  222   \n",
      "Adult Health                                        3534   \n",
      "Adult Medicine                                       709   \n",
      "Adult Reconstructive Orthopaedic Surgery             336   \n",
      "Aerospace Medicine                                     8   \n",
      "Allergy                                               26   \n",
      "Allergy & Immunology                                  35   \n",
      "Ambulatory Care                                        3   \n",
      "Ambulatory Surgical                                    2   \n",
      "Anatomic Pathology                                     5   \n",
      "Anatomic Pathology & Clinical Pathology               22   \n",
      "Athletic Trainer                                       1   \n",
      "Behavioral Neurology & Neuropsychiatry                 2   \n",
      "Body Imaging                                           1   \n",
      "Cardiovascular Disease                              2559   \n",
      "Child & Adolescent Psychiatry                         49   \n",
      "Chronic Care                                           1   \n",
      "Clinical                                              19   \n",
      "Clinical & Laboratory Dermatological Immunology        2   \n",
      "Clinical & Laboratory Immunology                       2   \n",
      "Clinical Cardiac Electrophysiology                   137   \n",
      "Clinical Genetics (M.D.)                               3   \n",
      "Clinical Neurophysiology                              33   \n",
      "Clinical Pathology/Laboratory Medicine                 1   \n",
      "Cognitive & Behavioral                                 3   \n",
      "...                                                  ...   \n",
      "Radiation Oncology                                  1025   \n",
      "Radiation Therapy                                      1   \n",
      "Registered Nurse First Assistant                       4   \n",
      "Rehabilitation                                         4   \n",
      "Reproductive Endocrinology                            12   \n",
      "Reproductive Endocrinology/Infertility                 1   \n",
      "Research Study                                         1   \n",
      "Respite Care, Mental Retardation and/or Develop...     1   \n",
      "Rheumatology                                        3024   \n",
      "Rural                                                  1   \n",
      "School                                                 3   \n",
      "Sleep Medicine                                        40   \n",
      "Spinal Cord Injury Medicine                           21   \n",
      "Sports Medicine                                     1451   \n",
      "Surgery of the Hand                                  181   \n",
      "Surgical Critical Care                                49   \n",
      "Surgical Oncology                                    228   \n",
      "Surgical Technologist                               2633   \n",
      "Therapeutic Radiology                                 34   \n",
      "Transplant Hepatology                                  1   \n",
      "Trauma Surgery                                        79   \n",
      "Undersea and Hyperbaric Medicine                      36   \n",
      "Urgent Care                                            8   \n",
      "Urology                                                2   \n",
      "Vascular & Interventional Radiology                   36   \n",
      "Vascular Neurology                                     7   \n",
      "Vascular Specialist                                    4   \n",
      "Vascular Surgery                                    1291   \n",
      "Women's Health                                       117   \n",
      "Women's Health Care, Ambulatory                        4   \n",
      "\n",
      "                                                                                            specialty  \n",
      "specialty                                                                                              \n",
      "Acute Care                                                                                Urgent Care  \n",
      "Addiction (Substance Use Disorder)                                              Hematology & Oncology  \n",
      "Addiction Medicine                                                                Psych/Mental Health  \n",
      "Addiction Psychiatry                                                     Pediatric Allergy/Immunology  \n",
      "Administrator                                                                               Geriatric  \n",
      "Adolescent Medicine                                                    Oral and Maxillofacial Surgery  \n",
      "Adult Health                                                                      Adolescent Medicine  \n",
      "Adult Medicine                                                                       Dermatopathology  \n",
      "Adult Reconstructive Orthopaedic Surgery                                  Neonatal-Perinatal Medicine  \n",
      "Aerospace Medicine                                                                   Vascular Surgery  \n",
      "Allergy                                                                          Dental Public Health  \n",
      "Allergy & Immunology                                                               Addiction Medicine  \n",
      "Ambulatory Care                                     Respite Care, Mental Retardation and/or Develo...  \n",
      "Ambulatory Surgical                                                                   Multi-Specialty  \n",
      "Anatomic Pathology                                                                Ambulatory Surgical  \n",
      "Anatomic Pathology & Clinical Pathology                                                      Oncology  \n",
      "Athletic Trainer                                             Orthodontics and Dentofacial Orthopedics  \n",
      "Behavioral Neurology & Neuropsychiatry                                               General Practice  \n",
      "Body Imaging                                                                               Nephrology  \n",
      "Cardiovascular Disease                                                                Ambulatory Care  \n",
      "Child & Adolescent Psychiatry                                                 Diagnostic Neuroimaging  \n",
      "Chronic Care                                                                  Pediatric Endocrinology  \n",
      "Clinical                                                                    Low Vision Rehabilitation  \n",
      "Clinical & Laboratory Dermatological Immunology                                  Oncology, Pediatrics  \n",
      "Clinical & Laboratory Immunology                                                           Obstetrics  \n",
      "Clinical Cardiac Electrophysiology                  Female Pelvic Medicine and Reconstructive Surgery  \n",
      "Clinical Genetics (M.D.)                                                               Health Service  \n",
      "Clinical Neurophysiology                                                                 Periodontics  \n",
      "Clinical Pathology/Laboratory Medicine                                               Community Health  \n",
      "Cognitive & Behavioral                                                               Medical-Surgical  \n",
      "...                                                                                               ...  \n",
      "Radiation Oncology                                                                     Research Study  \n",
      "Radiation Therapy                                                              Procedural Dermatology  \n",
      "Registered Nurse First Assistant                                           Pediatric Gastroenterology  \n",
      "Rehabilitation                                                             Reproductive Endocrinology  \n",
      "Reproductive Endocrinology                                                         Aerospace Medicine  \n",
      "Reproductive Endocrinology/Infertility                                              Pediatric Surgery  \n",
      "Research Study                                      Preventive Medicine/Occupational Environmental...  \n",
      "Respite Care, Mental Retardation and/or Develop...                                 Anatomic Pathology  \n",
      "Rheumatology                                                                   Critical Care Medicine  \n",
      "Rural                                                                           Diagnostic Ultrasound  \n",
      "School                                                                                         School  \n",
      "Sleep Medicine                                                                         Rehabilitation  \n",
      "Spinal Cord Injury Medicine                                                    Psychosomatic Medicine  \n",
      "Sports Medicine                                                                       Pain Management  \n",
      "Surgery of the Hand                                 Neurology with Special Qualifications in Child...  \n",
      "Surgical Critical Care                                                         Surgical Critical Care  \n",
      "Surgical Oncology                                                            Clinical Neurophysiology  \n",
      "Surgical Technologist                                                       Nuclear Imaging & Therapy  \n",
      "Therapeutic Radiology                                                  Psych/Mental Health, Community  \n",
      "Transplant Hepatology                                                  Community Health/Public Health  \n",
      "Trauma Surgery                                                                   Pediatric Nephrology  \n",
      "Undersea and Hyperbaric Medicine                                                      Pharmacotherapy  \n",
      "Urgent Care                                                                           Public Medicine  \n",
      "Urology                                                                         Surgical Technologist  \n",
      "Vascular & Interventional Radiology                                         MOHS-Micrographic Surgery  \n",
      "Vascular Neurology                                                                           Clinical  \n",
      "Vascular Specialist                                                                      Rheumatology  \n",
      "Vascular Surgery                                                                 Pediatric Cardiology  \n",
      "Women's Health                                                                    Vascular Specialist  \n",
      "Women's Health Care, Ambulatory                                          Interventional Pain Medicine  \n",
      "\n",
      "[208 rows x 2 columns]\n",
      "1048\n"
     ]
    }
   ],
   "source": [
    "# Set up plot of specialties in opiate prescribers\n",
    "specialties = set(pndf.specialty)\n",
    "s_freq = pndf.groupby('specialty')['specialty'].count()\n",
    "specialty_df = pd.DataFrame({'specialty': list(specialties),\n",
    "                             'freq': s_freq})\n",
    "print(specialty_df)\n",
    "print(len(pndf.specialty[pndf.specialty == 'Acute Care']))\n",
    "\n",
    "%matplotlib inline\n",
    "#N = len(specialties)\n",
    "#ind = np.arange(N)\n",
    "#width = 0.35\n",
    "#fig, ax = plt.subplots()\n",
    "#rects = ax.bar(ind, )"
   ]
  },
  {
   "cell_type": "code",
   "execution_count": null,
   "metadata": {
    "collapsed": false
   },
   "outputs": [],
   "source": []
  },
  {
   "cell_type": "code",
   "execution_count": null,
   "metadata": {
    "collapsed": false
   },
   "outputs": [],
   "source": []
  },
  {
   "cell_type": "code",
   "execution_count": null,
   "metadata": {
    "collapsed": false
   },
   "outputs": [],
   "source": []
  },
  {
   "cell_type": "code",
   "execution_count": null,
   "metadata": {
    "collapsed": false
   },
   "outputs": [],
   "source": [
    "\n"
   ]
  },
  {
   "cell_type": "code",
   "execution_count": null,
   "metadata": {
    "collapsed": false
   },
   "outputs": [],
   "source": []
  }
 ],
 "metadata": {
  "kernelspec": {
   "display_name": "Python [Root]",
   "language": "python",
   "name": "Python [Root]"
  },
  "language_info": {
   "codemirror_mode": {
    "name": "ipython",
    "version": 3
   },
   "file_extension": ".py",
   "mimetype": "text/x-python",
   "name": "python",
   "nbconvert_exporter": "python",
   "pygments_lexer": "ipython3",
   "version": "3.5.2"
  }
 },
 "nbformat": 4,
 "nbformat_minor": 0
}
