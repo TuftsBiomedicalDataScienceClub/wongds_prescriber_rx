{
 "cells": [
  {
   "cell_type": "markdown",
   "metadata": {},
   "source": [
    "# wongds_prescriber_rx\n",
    "A Python-based approach for a Tufts Biomedical Data Science Club project to determine whether patterns exist between prescriber demographic information and opioid prescription.\n",
    "\n",
    "## Datasets\n",
    "- Prescriber attributes: https://www.kaggle.com/roamresearch/prescriptionbasedprediction\n",
    "- Opiate prescriptions: https://www.kaggle.com/apryor6/us-opiate-prescriptions"
   ]
  },
  {
   "cell_type": "code",
   "execution_count": 1,
   "metadata": {
    "collapsed": false
   },
   "outputs": [],
   "source": [
    "# Load some useful libraries\n",
    "import csv\n",
    "import jsonlines\n",
    "import copy\n",
    "from pprint import pprint\n",
    "import pandas as pd\n",
    "import numpy as np"
   ]
  },
  {
   "cell_type": "code",
   "execution_count": 2,
   "metadata": {
    "collapsed": false
   },
   "outputs": [],
   "source": [
    "# Load data\n",
    "# Opiate dataset\n",
    "opiate_class_data = 'dataset_rx/opioids.csv'\n",
    "opiate_prescriber_data = 'dataset_rx/prescriber-info.csv'\n",
    "opiate_overdose_data = 'dataset_rx/overdoses.csv'\n",
    "\n",
    "# List of opiates\n",
    "opioids = pd.read_csv(opiate_class_data)\n",
    "\n",
    "# Opiate prescriber info\n",
    "opiate_prescribers = pd.read_csv(opiate_prescriber_data)\n",
    "\n",
    "# Opiate overdoses, by US State\n",
    "opiate_overdoses = pd.read_csv(opiate_overdose_data)"
   ]
  },
  {
   "cell_type": "code",
   "execution_count": 3,
   "metadata": {
    "collapsed": false
   },
   "outputs": [],
   "source": [
    "# Prescriber dataset\n",
    "prescriber_attr_dataset = 'dataset_prescriber/roam_prescription_based_prediction.jsonl'\n",
    "\n",
    "# Build a list of dictionaries containing prescriber data\n",
    "prescriber_attr_data = []\n",
    "with jsonlines.open(prescriber_attr_dataset) as reader:\n",
    "    for obj in reader:\n",
    "        prescriber_attr_data.append(obj)"
   ]
  },
  {
   "cell_type": "code",
   "execution_count": 5,
   "metadata": {
    "collapsed": false
   },
   "outputs": [],
   "source": [
    "# Look for prescription of opiates in prescriber_data\n",
    "opioid_prescribers = {'Drug Name': [],\n",
    "                      'npi': [],\n",
    "                     }\n",
    "\n",
    "# Cycle through each prescriber record\n",
    "for prescriber in prescriber_attr_data:\n",
    "    # Look for opioids by Drug Name, and make a record of prescriber by npi.\n",
    "    # Generic names also appear in 'Drug Name' list.\n",
    "    for drug in opioids['Drug Name']:\n",
    "        if drug in prescriber['cms_prescription_counts'].keys():\n",
    "            opioid_prescribers['Drug Name'].append(drug)\n",
    "            opioid_prescribers['npi'].append(prescriber['npi'])\n",
    "\n",
    "# Convert the dictionary to a dataframe and save to csv.\n",
    "# Use this dataframe to unify prescriber attributes and opioid prescription.\n",
    "opioid_prescriber_df = pd.DataFrame(opioid_prescribers)\n",
    "opioid_prescriber_df.to_csv('opioid_prescribers.csv')\n",
    "\n",
    "#print(opioids)\n",
    "#print(opioids['Drug Name'])\n",
    "#print(opioids['Generic Name'])\n",
    "#print(prescriber_data[0]['cms_prescription_counts'].keys())"
   ]
  },
  {
   "cell_type": "code",
   "execution_count": null,
   "metadata": {
    "collapsed": false
   },
   "outputs": [],
   "source": []
  },
  {
   "cell_type": "code",
   "execution_count": null,
   "metadata": {
    "collapsed": false
   },
   "outputs": [],
   "source": []
  },
  {
   "cell_type": "code",
   "execution_count": null,
   "metadata": {
    "collapsed": false
   },
   "outputs": [],
   "source": [
    "# Don't do this. The dataset is huge. Total of 239,930 prescribers.\n",
    "# Set up column names for Pandas DataFrame\n",
    "#column_names = ['drug_name', 'count', 'npi']\n",
    "#column_names.extend(list(prescriber_data[0]['provider_variables'].keys()))\n",
    "\n",
    "# Set up the dataframe\n",
    "#prescriptions = pd.DataFrame(np.nan, index=[], columns=column_names)\n",
    "#print(prescriptions)\n",
    "\n",
    "# Re-format JSONL data to Pandas dataframe for CSV, one line for each prescriber/drug prescrbed combination\n",
    "#for prescriber_record in prescriber_data:\n",
    "    # Prescriber information\n",
    "#    prescriber_info = {'npi': prescriber_record['npi']}\n",
    "#    prescriber_info.update(prescriber_record['provider_variables'])\n",
    "    \n",
    "    # Drug information\n",
    "    #drug_names = list(prescriber_record['cms_prescription_counts'].keys())\n",
    "    #drug_counts = list(prescriber_record['cms_prescription_counts'].values())\n",
    "    \n",
    "    # Make a dictionary of lists to hold data for this provider\n",
    "    ## Expand prescriber data so each drug prescribed is attached to a row of data containing prescriber info\n",
    "#    drug_data = {'drug_name': [],\n",
    "#                 'count': [],\n",
    "#                 'npi': [],\n",
    "#                 'settlement_type': [],\n",
    "#                 'region': [],\n",
    "#                 'specialty': [],\n",
    "#                 'gender': [],\n",
    "#                 'generic_rx_count': [],\n",
    "#                 'brand_name_rx_count': [],\n",
    "#                 'years_practicing': []\n",
    "#                }\n",
    "    ## Fill the dictionary lists\n",
    "#    for dname, dcount in prescriber_record['cms_prescription_counts'].items():\n",
    "        # Drug information\n",
    "#        drug_data['drug_name'].append(dname)\n",
    "#        drug_data['count'].append(dcount)\n",
    "        \n",
    "        # Prescriber information\n",
    "#        for key in prescriber_info.keys():\n",
    "#            drug_data[key].append(prescriber_info[key])\n",
    "            \n",
    "    # Use the dictionary to make a dataframe\n",
    "#    provider_df = pd.DataFrame(drug_data)\n",
    "    #print(provider_df)\n",
    "    \n",
    "    # Add the dataframe for this provider to the end of the larger prescriptions dataframe\n",
    "#    prescriptions = pd.concat([prescriptions, provider_df], ignore_index=True)\n",
    "#    prescriptions.to_csv('prescriptions.csv')\n",
    "\n",
    "#prescriptions.to_csv('prescriptions.csv')\n",
    "#print(prescriptions)\n",
    "    \n",
    "#    The code below is too inefficient for this dataset\n",
    "#    for drug_name, count in entry['cms_prescription_counts'].items():\n",
    "#        data_row = {column_names[0]: drug_name,\n",
    "#                    column_names[1]: count,\n",
    "#                    column_names[2]: prescriber_info['npi'],\n",
    "#                    column_names[3]: prescriber_info['settlement_type'],\n",
    "#                    column_names[4]: prescriber_info['region'],\n",
    "#                    column_names[5]: prescriber_info['specialty'],\n",
    "#                    column_names[6]: prescriber_info['gender'],\n",
    "#                    column_names[7]: prescriber_info['generic_rx_count'],\n",
    "#                    column_names[8]: prescriber_info['brand_name_rx_count'],\n",
    "#                    column_names[9]: prescriber_info['years_practicing'],\n",
    "#                   }\n",
    "        #print(data_row, column_names)\n",
    "#        dataframe_row = pd.DataFrame(data_row,\n",
    "#                                     index=[1],\n",
    "#                                     columns=column_names)\n",
    "        #print(dataframe_row)\n",
    "#        prescriptions = pd.concat([prescriptions, dataframe_row], ignore_index=True)\n",
    "#prescriptions.to_csv('prescriptions.csv')        \n",
    "#print(prescriptions)"
   ]
  },
  {
   "cell_type": "code",
   "execution_count": null,
   "metadata": {
    "collapsed": false
   },
   "outputs": [],
   "source": [
    "# Slice the data in a few different ways\n",
    "# List all of the drugs prescribed\n",
    "drugs_prescribed = {}\n",
    "for entry in prescriber_data:\n",
    "    for drug_name, count in entry['cms_prescription_counts'].items():\n",
    "        try:\n",
    "            drugs[drug_name] += count\n",
    "        except KeyError:\n",
    "            drugs_prescribed[drug_name] = (count)\n",
    "            "
   ]
  },
  {
   "cell_type": "code",
   "execution_count": null,
   "metadata": {
    "collapsed": false
   },
   "outputs": [],
   "source": [
    "len(prescriber_data)\n"
   ]
  },
  {
   "cell_type": "code",
   "execution_count": null,
   "metadata": {
    "collapsed": false
   },
   "outputs": [],
   "source": [
    "# Build a dictionary of drugs prescribed, with values being npi numbers for providers who prescribed\n"
   ]
  }
 ],
 "metadata": {
  "kernelspec": {
   "display_name": "Python [Root]",
   "language": "python",
   "name": "Python [Root]"
  },
  "language_info": {
   "codemirror_mode": {
    "name": "ipython",
    "version": 3
   },
   "file_extension": ".py",
   "mimetype": "text/x-python",
   "name": "python",
   "nbconvert_exporter": "python",
   "pygments_lexer": "ipython3",
   "version": "3.5.2"
  }
 },
 "nbformat": 4,
 "nbformat_minor": 0
}
